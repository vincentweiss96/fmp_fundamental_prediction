{
 "cells": [
  {
   "cell_type": "code",
   "execution_count": 1,
   "metadata": {},
   "outputs": [],
   "source": [
    "import pandas as pd\n",
    "from sklearn.model_selection import KFold\n",
    "from sklearn import svm\n",
    "from sklearn import metrics\n",
    "from sklearn.model_selection import cross_validate\n",
    "import numpy as np\n",
    "from sklearn.model_selection import RandomizedSearchCV\n",
    "import missingno as msno\n",
    "import pickle"
   ]
  },
  {
   "cell_type": "code",
   "execution_count": 2,
   "metadata": {},
   "outputs": [],
   "source": [
    "from sklearn.ensemble import RandomForestClassifier\n",
    "from sklearn.preprocessing import StandardScaler\n",
    "from matplotlib import pyplot as plt"
   ]
  },
  {
   "cell_type": "code",
   "execution_count": 3,
   "metadata": {},
   "outputs": [
    {
     "name": "stderr",
     "output_type": "stream",
     "text": [
      "Using TensorFlow backend.\n"
     ]
    }
   ],
   "source": [
    "from keras.optimizers import SGD, Adam, RMSprop, Adamax\n",
    "from keras.models import Model\n",
    "from keras import Input\n",
    "from keras.layers import Dense, Dropout\n",
    "from keras.metrics import AUC, Precision, Recall, TruePositives, FalsePositives\n",
    "from keras.models import load_model"
   ]
  },
  {
   "cell_type": "code",
   "execution_count": 66,
   "metadata": {},
   "outputs": [],
   "source": [
    "# import Dataset\n",
    "Concat_final= pd.read_csv(\"PATH\\\\FMP_preprocessed_Short_inclTR.csv\",\";\")"
   ]
  },
  {
   "cell_type": "code",
   "execution_count": 67,
   "metadata": {
    "scrolled": false
   },
   "outputs": [],
   "source": [
    "Concat_final = Concat_final.dropna()\n",
    "Concat_final.dropna(inplace=True)\n",
    "Concat_final= Concat_final.set_index(\"Unnamed: 0\")\n"
   ]
  },
  {
   "cell_type": "code",
   "execution_count": 68,
   "metadata": {},
   "outputs": [
    {
     "data": {
      "text/plain": [
       "-0.9519311928399999"
      ]
     },
     "execution_count": 68,
     "metadata": {},
     "output_type": "execute_result"
    }
   ],
   "source": [
    "Concat_final[\"True_Return\"].quantile(q=0.99)\n",
    "Concat_final[\"True_Return\"].quantile(q=0.01)"
   ]
  },
  {
   "cell_type": "code",
   "execution_count": 69,
   "metadata": {
    "scrolled": true
   },
   "outputs": [
    {
     "name": "stderr",
     "output_type": "stream",
     "text": [
      "C:\\Users\\Vincent\\anaconda3\\lib\\site-packages\\ipykernel_launcher.py:2: SettingWithCopyWarning: \n",
      "A value is trying to be set on a copy of a slice from a DataFrame\n",
      "\n",
      "See the caveats in the documentation: https://pandas.pydata.org/pandas-docs/stable/user_guide/indexing.html#returning-a-view-versus-a-copy\n",
      "  \n"
     ]
    }
   ],
   "source": [
    "# Outliers?\n",
    "Concat_final[\"True_Return\"][Concat_final[\"True_Return\"]<-1]=-1\n",
    "# more than 10 times return in 3 years?\n",
    "Concat_final=Concat_final[Concat_final[\"True_Return\"]<Concat_final[\"True_Return\"].quantile(q=0.99)]\n",
    "Concat_final=Concat_final[Concat_final[\"True_Return\"]>Concat_final[\"True_Return\"].quantile(q=0.01)]\n",
    "Concat_final=Concat_final[Concat_final[\"index\"]>2000]"
   ]
  },
  {
   "cell_type": "code",
   "execution_count": 70,
   "metadata": {},
   "outputs": [],
   "source": [
    "Concat_final[\"neg_class\"]= Concat_final[\"True_Return\"]<-0"
   ]
  },
  {
   "cell_type": "code",
   "execution_count": 71,
   "metadata": {},
   "outputs": [
    {
     "data": {
      "text/plain": [
       "<matplotlib.axes._subplots.AxesSubplot at 0x27d8ec15b08>"
      ]
     },
     "execution_count": 71,
     "metadata": {},
     "output_type": "execute_result"
    },
    {
     "data": {
      "image/png": "[encoded data removed]",
      "text/plain": [
       "<Figure size 1800x720 with 2 Axes>"
      ]
     },
     "metadata": {
      "needs_background": "light"
     },
     "output_type": "display_data"
    }
   ],
   "source": [
    "Concat_final.drop(columns=['fillingDate','Date_ID_1'],inplace=True)\n",
    "                               # 'Classifier 1Y','Classifier 3Y0','Classifier 3Y15'], inplace=True)\n",
    "# Concat_final=Concat_final.apply (pd.to_numeric, errors='coerce')\n",
    "# Concat_final.dropna(inplace=True)\n",
    "Concat_final.to_csv(\"C:\\\\Users\\\\Vincent\\\\01 Python_Working_Directory\\\\Z9\\\\Data\\\\FMP\\\\Train\\\\Comparison.csv\")\n",
    "X = Concat_final.drop(columns=['Classifier 3Y02','Classifier 3Y04','Classifier 3Y05',\\\n",
    "                               'Classifier 3Y07','Classifier 3Y09','Classifier 3Y15',\\\n",
    "                               'Ticker','index','True_Return',\"neg_class\"])\n",
    "X.to_csv(\"C:\\\\Users\\\\Vincent\\\\01 Python_Working_Directory\\\\Z9\\\\Data\\\\FMP\\\\Train\\\\X_compare.csv\")\n",
    "\n",
    "# check if no nan\n",
    "msno.matrix(X)"
   ]
  },
  {
   "cell_type": "code",
   "execution_count": 7,
   "metadata": {},
   "outputs": [],
   "source": [
    "# Macroeconomic data can be dropped here. They cause bias.\n",
    "#X.drop(columns=[\"CPIAUCSL\",\"UNRATE\",\"INDPRO\",\"GDPC1\",\"AAA\",\"EXUSEU\",\"T5YIFRM\"], inplace = True)"
   ]
  },
  {
   "cell_type": "code",
   "execution_count": 72,
   "metadata": {},
   "outputs": [
    {
     "data": {
      "text/html": [
       "<div>\n",
       "<style scoped>\n",
       "    .dataframe tbody tr th:only-of-type {\n",
       "        vertical-align: middle;\n",
       "    }\n",
       "\n",
       "    .dataframe tbody tr th {\n",
       "        vertical-align: top;\n",
       "    }\n",
       "\n",
       "    .dataframe thead th {\n",
       "        text-align: right;\n",
       "    }\n",
       "</style>\n",
       "<table border=\"1\" class=\"dataframe\">\n",
       "  <thead>\n",
       "    <tr style=\"text-align: right;\">\n",
       "      <th></th>\n",
       "      <th>cashAndCashEquivalents</th>\n",
       "      <th>cashAndShortTermInvestments</th>\n",
       "      <th>netReceivables</th>\n",
       "      <th>otherCurrentAssets</th>\n",
       "      <th>totalCurrentAssets</th>\n",
       "      <th>propertyPlantEquipmentNet</th>\n",
       "      <th>goodwillAndIntangibleAssets</th>\n",
       "      <th>otherNonCurrentAssets</th>\n",
       "      <th>totalNonCurrentAssets</th>\n",
       "      <th>otherAssets</th>\n",
       "      <th>...</th>\n",
       "      <th>enterpriseValue</th>\n",
       "      <th>AAA</th>\n",
       "      <th>CPIAUCSL</th>\n",
       "      <th>EXUSEU</th>\n",
       "      <th>INDPRO</th>\n",
       "      <th>T5YIFRM</th>\n",
       "      <th>UNRATE</th>\n",
       "      <th>GDPC1</th>\n",
       "      <th>adjclose</th>\n",
       "      <th>neg_class</th>\n",
       "    </tr>\n",
       "    <tr>\n",
       "      <th>Unnamed: 0</th>\n",
       "      <th></th>\n",
       "      <th></th>\n",
       "      <th></th>\n",
       "      <th></th>\n",
       "      <th></th>\n",
       "      <th></th>\n",
       "      <th></th>\n",
       "      <th></th>\n",
       "      <th></th>\n",
       "      <th></th>\n",
       "      <th></th>\n",
       "      <th></th>\n",
       "      <th></th>\n",
       "      <th></th>\n",
       "      <th></th>\n",
       "      <th></th>\n",
       "      <th></th>\n",
       "      <th></th>\n",
       "      <th></th>\n",
       "      <th></th>\n",
       "      <th></th>\n",
       "    </tr>\n",
       "  </thead>\n",
       "  <tbody>\n",
       "    <tr>\n",
       "      <th>3</th>\n",
       "      <td>2.048400e+10</td>\n",
       "      <td>6.715500e+10</td>\n",
       "      <td>2.929900e+10</td>\n",
       "      <td>8.283000e+09</td>\n",
       "      <td>1.070000e+11</td>\n",
       "      <td>2.701000e+10</td>\n",
       "      <td>8.620000e+09</td>\n",
       "      <td>8.757000e+09</td>\n",
       "      <td>2.150000e+11</td>\n",
       "      <td>1.704000e+10</td>\n",
       "      <td>...</td>\n",
       "      <td>7.100000e+11</td>\n",
       "      <td>3.92</td>\n",
       "      <td>243.717</td>\n",
       "      <td>1.0635</td>\n",
       "      <td>103.0366</td>\n",
       "      <td>2.13</td>\n",
       "      <td>4.7</td>\n",
       "      <td>17977.299</td>\n",
       "      <td>27.470144</td>\n",
       "      <td>False</td>\n",
       "    </tr>\n",
       "    <tr>\n",
       "      <th>4</th>\n",
       "      <td>2.112000e+10</td>\n",
       "      <td>4.160100e+10</td>\n",
       "      <td>3.034300e+10</td>\n",
       "      <td>1.508500e+10</td>\n",
       "      <td>8.937800e+10</td>\n",
       "      <td>2.247100e+10</td>\n",
       "      <td>9.009000e+09</td>\n",
       "      <td>5.422000e+09</td>\n",
       "      <td>2.010000e+11</td>\n",
       "      <td>2.050700e+10</td>\n",
       "      <td>...</td>\n",
       "      <td>7.090000e+11</td>\n",
       "      <td>4.00</td>\n",
       "      <td>237.827</td>\n",
       "      <td>1.0855</td>\n",
       "      <td>102.9525</td>\n",
       "      <td>1.65</td>\n",
       "      <td>4.9</td>\n",
       "      <td>17613.264</td>\n",
       "      <td>24.422157</td>\n",
       "      <td>False</td>\n",
       "    </tr>\n",
       "    <tr>\n",
       "      <th>5</th>\n",
       "      <td>1.384400e+10</td>\n",
       "      <td>2.507700e+10</td>\n",
       "      <td>2.721900e+10</td>\n",
       "      <td>1.412400e+10</td>\n",
       "      <td>6.853100e+10</td>\n",
       "      <td>2.062400e+10</td>\n",
       "      <td>8.758000e+09</td>\n",
       "      <td>3.764000e+09</td>\n",
       "      <td>1.630000e+11</td>\n",
       "      <td>1.788800e+10</td>\n",
       "      <td>...</td>\n",
       "      <td>6.650000e+11</td>\n",
       "      <td>3.46</td>\n",
       "      <td>234.747</td>\n",
       "      <td>1.1615</td>\n",
       "      <td>105.9806</td>\n",
       "      <td>2.02</td>\n",
       "      <td>5.7</td>\n",
       "      <td>17305.752</td>\n",
       "      <td>25.181044</td>\n",
       "      <td>False</td>\n",
       "    </tr>\n",
       "    <tr>\n",
       "      <th>6</th>\n",
       "      <td>1.425900e+10</td>\n",
       "      <td>4.054600e+10</td>\n",
       "      <td>2.064100e+10</td>\n",
       "      <td>1.033500e+10</td>\n",
       "      <td>7.328600e+10</td>\n",
       "      <td>1.659700e+10</td>\n",
       "      <td>5.756000e+09</td>\n",
       "      <td>5.146000e+09</td>\n",
       "      <td>1.340000e+11</td>\n",
       "      <td>1.548100e+10</td>\n",
       "      <td>...</td>\n",
       "      <td>4.960000e+11</td>\n",
       "      <td>4.49</td>\n",
       "      <td>235.288</td>\n",
       "      <td>1.3618</td>\n",
       "      <td>102.7216</td>\n",
       "      <td>2.72</td>\n",
       "      <td>6.6</td>\n",
       "      <td>16616.540</td>\n",
       "      <td>17.906834</td>\n",
       "      <td>False</td>\n",
       "    </tr>\n",
       "    <tr>\n",
       "      <th>7</th>\n",
       "      <td>1.074600e+10</td>\n",
       "      <td>2.912900e+10</td>\n",
       "      <td>1.869200e+10</td>\n",
       "      <td>9.041000e+09</td>\n",
       "      <td>5.765300e+10</td>\n",
       "      <td>1.545200e+10</td>\n",
       "      <td>5.359000e+09</td>\n",
       "      <td>5.478000e+09</td>\n",
       "      <td>1.180000e+11</td>\n",
       "      <td>1.451900e+10</td>\n",
       "      <td>...</td>\n",
       "      <td>5.600000e+11</td>\n",
       "      <td>3.80</td>\n",
       "      <td>231.679</td>\n",
       "      <td>1.3304</td>\n",
       "      <td>100.8204</td>\n",
       "      <td>2.84</td>\n",
       "      <td>8.0</td>\n",
       "      <td>16382.964</td>\n",
       "      <td>16.569740</td>\n",
       "      <td>False</td>\n",
       "    </tr>\n",
       "    <tr>\n",
       "      <th>...</th>\n",
       "      <td>...</td>\n",
       "      <td>...</td>\n",
       "      <td>...</td>\n",
       "      <td>...</td>\n",
       "      <td>...</td>\n",
       "      <td>...</td>\n",
       "      <td>...</td>\n",
       "      <td>...</td>\n",
       "      <td>...</td>\n",
       "      <td>...</td>\n",
       "      <td>...</td>\n",
       "      <td>...</td>\n",
       "      <td>...</td>\n",
       "      <td>...</td>\n",
       "      <td>...</td>\n",
       "      <td>...</td>\n",
       "      <td>...</td>\n",
       "      <td>...</td>\n",
       "      <td>...</td>\n",
       "      <td>...</td>\n",
       "      <td>...</td>\n",
       "    </tr>\n",
       "    <tr>\n",
       "      <th>47579</th>\n",
       "      <td>2.262000e+09</td>\n",
       "      <td>2.262000e+09</td>\n",
       "      <td>6.920000e+08</td>\n",
       "      <td>3.770000e+08</td>\n",
       "      <td>3.958000e+09</td>\n",
       "      <td>7.750000e+08</td>\n",
       "      <td>4.680000e+08</td>\n",
       "      <td>2.168000e+09</td>\n",
       "      <td>3.411000e+09</td>\n",
       "      <td>2.545000e+09</td>\n",
       "      <td>...</td>\n",
       "      <td>1.178309e+09</td>\n",
       "      <td>5.30</td>\n",
       "      <td>205.288</td>\n",
       "      <td>1.3246</td>\n",
       "      <td>103.7521</td>\n",
       "      <td>2.32</td>\n",
       "      <td>4.4</td>\n",
       "      <td>15493.328</td>\n",
       "      <td>20.875027</td>\n",
       "      <td>True</td>\n",
       "    </tr>\n",
       "    <tr>\n",
       "      <th>47580</th>\n",
       "      <td>2.226000e+09</td>\n",
       "      <td>2.226000e+09</td>\n",
       "      <td>7.530000e+08</td>\n",
       "      <td>7.460000e+08</td>\n",
       "      <td>4.447000e+09</td>\n",
       "      <td>8.730000e+08</td>\n",
       "      <td>3.620000e+08</td>\n",
       "      <td>1.069000e+09</td>\n",
       "      <td>2.304000e+09</td>\n",
       "      <td>1.815000e+09</td>\n",
       "      <td>...</td>\n",
       "      <td>1.178309e+09</td>\n",
       "      <td>5.84</td>\n",
       "      <td>200.700</td>\n",
       "      <td>1.2273</td>\n",
       "      <td>101.6813</td>\n",
       "      <td>2.52</td>\n",
       "      <td>4.7</td>\n",
       "      <td>15302.705</td>\n",
       "      <td>23.261898</td>\n",
       "      <td>True</td>\n",
       "    </tr>\n",
       "    <tr>\n",
       "      <th>47581</th>\n",
       "      <td>2.315000e+09</td>\n",
       "      <td>2.315000e+09</td>\n",
       "      <td>1.044000e+09</td>\n",
       "      <td>1.920000e+08</td>\n",
       "      <td>4.577000e+09</td>\n",
       "      <td>1.258000e+09</td>\n",
       "      <td>4.430000e+08</td>\n",
       "      <td>7.780000e+08</td>\n",
       "      <td>2.479000e+09</td>\n",
       "      <td>9.700000e+08</td>\n",
       "      <td>...</td>\n",
       "      <td>1.178309e+09</td>\n",
       "      <td>5.40</td>\n",
       "      <td>193.100</td>\n",
       "      <td>1.3185</td>\n",
       "      <td>99.3061</td>\n",
       "      <td>2.54</td>\n",
       "      <td>5.2</td>\n",
       "      <td>14771.602</td>\n",
       "      <td>14.867786</td>\n",
       "      <td>False</td>\n",
       "    </tr>\n",
       "    <tr>\n",
       "      <th>47582</th>\n",
       "      <td>1.607000e+09</td>\n",
       "      <td>1.607000e+09</td>\n",
       "      <td>1.086000e+09</td>\n",
       "      <td>2.010000e+08</td>\n",
       "      <td>3.889000e+09</td>\n",
       "      <td>1.447000e+09</td>\n",
       "      <td>4.020000e+08</td>\n",
       "      <td>5.590000e+08</td>\n",
       "      <td>2.408000e+09</td>\n",
       "      <td>7.600000e+08</td>\n",
       "      <td>...</td>\n",
       "      <td>1.178309e+09</td>\n",
       "      <td>5.33</td>\n",
       "      <td>187.100</td>\n",
       "      <td>1.2261</td>\n",
       "      <td>95.2088</td>\n",
       "      <td>2.45</td>\n",
       "      <td>5.8</td>\n",
       "      <td>14221.147</td>\n",
       "      <td>21.180405</td>\n",
       "      <td>True</td>\n",
       "    </tr>\n",
       "    <tr>\n",
       "      <th>47583</th>\n",
       "      <td>1.844000e+09</td>\n",
       "      <td>1.844000e+09</td>\n",
       "      <td>1.119000e+09</td>\n",
       "      <td>7.330000e+08</td>\n",
       "      <td>4.880000e+09</td>\n",
       "      <td>1.579000e+09</td>\n",
       "      <td>6.850000e+08</td>\n",
       "      <td>1.059000e+09</td>\n",
       "      <td>3.323000e+09</td>\n",
       "      <td>1.792000e+09</td>\n",
       "      <td>...</td>\n",
       "      <td>1.178309e+09</td>\n",
       "      <td>5.89</td>\n",
       "      <td>183.900</td>\n",
       "      <td>1.0797</td>\n",
       "      <td>93.7358</td>\n",
       "      <td>2.05</td>\n",
       "      <td>5.9</td>\n",
       "      <td>13634.253</td>\n",
       "      <td>8.177285</td>\n",
       "      <td>False</td>\n",
       "    </tr>\n",
       "  </tbody>\n",
       "</table>\n",
       "<p>33232 rows × 127 columns</p>\n",
       "</div>"
      ],
      "text/plain": [
       "            cashAndCashEquivalents  cashAndShortTermInvestments  \\\n",
       "Unnamed: 0                                                        \n",
       "3                     2.048400e+10                 6.715500e+10   \n",
       "4                     2.112000e+10                 4.160100e+10   \n",
       "5                     1.384400e+10                 2.507700e+10   \n",
       "6                     1.425900e+10                 4.054600e+10   \n",
       "7                     1.074600e+10                 2.912900e+10   \n",
       "...                            ...                          ...   \n",
       "47579                 2.262000e+09                 2.262000e+09   \n",
       "47580                 2.226000e+09                 2.226000e+09   \n",
       "47581                 2.315000e+09                 2.315000e+09   \n",
       "47582                 1.607000e+09                 1.607000e+09   \n",
       "47583                 1.844000e+09                 1.844000e+09   \n",
       "\n",
       "            netReceivables  otherCurrentAssets  totalCurrentAssets  \\\n",
       "Unnamed: 0                                                           \n",
       "3             2.929900e+10        8.283000e+09        1.070000e+11   \n",
       "4             3.034300e+10        1.508500e+10        8.937800e+10   \n",
       "5             2.721900e+10        1.412400e+10        6.853100e+10   \n",
       "6             2.064100e+10        1.033500e+10        7.328600e+10   \n",
       "7             1.869200e+10        9.041000e+09        5.765300e+10   \n",
       "...                    ...                 ...                 ...   \n",
       "47579         6.920000e+08        3.770000e+08        3.958000e+09   \n",
       "47580         7.530000e+08        7.460000e+08        4.447000e+09   \n",
       "47581         1.044000e+09        1.920000e+08        4.577000e+09   \n",
       "47582         1.086000e+09        2.010000e+08        3.889000e+09   \n",
       "47583         1.119000e+09        7.330000e+08        4.880000e+09   \n",
       "\n",
       "            propertyPlantEquipmentNet  goodwillAndIntangibleAssets  \\\n",
       "Unnamed: 0                                                           \n",
       "3                        2.701000e+10                 8.620000e+09   \n",
       "4                        2.247100e+10                 9.009000e+09   \n",
       "5                        2.062400e+10                 8.758000e+09   \n",
       "6                        1.659700e+10                 5.756000e+09   \n",
       "7                        1.545200e+10                 5.359000e+09   \n",
       "...                               ...                          ...   \n",
       "47579                    7.750000e+08                 4.680000e+08   \n",
       "47580                    8.730000e+08                 3.620000e+08   \n",
       "47581                    1.258000e+09                 4.430000e+08   \n",
       "47582                    1.447000e+09                 4.020000e+08   \n",
       "47583                    1.579000e+09                 6.850000e+08   \n",
       "\n",
       "            otherNonCurrentAssets  totalNonCurrentAssets   otherAssets  ...  \\\n",
       "Unnamed: 0                                                              ...   \n",
       "3                    8.757000e+09           2.150000e+11  1.704000e+10  ...   \n",
       "4                    5.422000e+09           2.010000e+11  2.050700e+10  ...   \n",
       "5                    3.764000e+09           1.630000e+11  1.788800e+10  ...   \n",
       "6                    5.146000e+09           1.340000e+11  1.548100e+10  ...   \n",
       "7                    5.478000e+09           1.180000e+11  1.451900e+10  ...   \n",
       "...                           ...                    ...           ...  ...   \n",
       "47579                2.168000e+09           3.411000e+09  2.545000e+09  ...   \n",
       "47580                1.069000e+09           2.304000e+09  1.815000e+09  ...   \n",
       "47581                7.780000e+08           2.479000e+09  9.700000e+08  ...   \n",
       "47582                5.590000e+08           2.408000e+09  7.600000e+08  ...   \n",
       "47583                1.059000e+09           3.323000e+09  1.792000e+09  ...   \n",
       "\n",
       "            enterpriseValue   AAA  CPIAUCSL  EXUSEU    INDPRO  T5YIFRM  \\\n",
       "Unnamed: 0                                                               \n",
       "3              7.100000e+11  3.92   243.717  1.0635  103.0366     2.13   \n",
       "4              7.090000e+11  4.00   237.827  1.0855  102.9525     1.65   \n",
       "5              6.650000e+11  3.46   234.747  1.1615  105.9806     2.02   \n",
       "6              4.960000e+11  4.49   235.288  1.3618  102.7216     2.72   \n",
       "7              5.600000e+11  3.80   231.679  1.3304  100.8204     2.84   \n",
       "...                     ...   ...       ...     ...       ...      ...   \n",
       "47579          1.178309e+09  5.30   205.288  1.3246  103.7521     2.32   \n",
       "47580          1.178309e+09  5.84   200.700  1.2273  101.6813     2.52   \n",
       "47581          1.178309e+09  5.40   193.100  1.3185   99.3061     2.54   \n",
       "47582          1.178309e+09  5.33   187.100  1.2261   95.2088     2.45   \n",
       "47583          1.178309e+09  5.89   183.900  1.0797   93.7358     2.05   \n",
       "\n",
       "            UNRATE      GDPC1   adjclose  neg_class  \n",
       "Unnamed: 0                                           \n",
       "3              4.7  17977.299  27.470144      False  \n",
       "4              4.9  17613.264  24.422157      False  \n",
       "5              5.7  17305.752  25.181044      False  \n",
       "6              6.6  16616.540  17.906834      False  \n",
       "7              8.0  16382.964  16.569740      False  \n",
       "...            ...        ...        ...        ...  \n",
       "47579          4.4  15493.328  20.875027       True  \n",
       "47580          4.7  15302.705  23.261898       True  \n",
       "47581          5.2  14771.602  14.867786      False  \n",
       "47582          5.8  14221.147  21.180405       True  \n",
       "47583          5.9  13634.253   8.177285      False  \n",
       "\n",
       "[33232 rows x 127 columns]"
      ]
     },
     "execution_count": 72,
     "metadata": {},
     "output_type": "execute_result"
    }
   ],
   "source": [
    "# Drop classifiers\n",
    "# 'Classifier 3Y02' : over 3 years at least 2% annual return\n",
    "# Ticker: stock ticker (e.g. AAPL for Apple)\n",
    "# index : year (can cause bias)\n",
    "# True Return: True Return over 3 years (only needed for later evaluation)\n",
    "Concat_final.drop(columns=['Classifier 3Y02','Classifier 3Y04','Classifier 3Y05',\\\n",
    "                               'Classifier 3Y07','Classifier 3Y09','Classifier 3Y15',\\\n",
    "                                      'Ticker','index','True_Return'])"
   ]
  },
  {
   "cell_type": "code",
   "execution_count": 73,
   "metadata": {},
   "outputs": [],
   "source": [
    "scaler = StandardScaler()\n",
    "\n",
    "scaler.fit(Concat_final.drop(columns=['Classifier 3Y02','Classifier 3Y04','Classifier 3Y05',\\\n",
    "                               'Classifier 3Y07','Classifier 3Y09','Classifier 3Y15',\\\n",
    "                                      'Ticker','index','True_Return'\\\n",
    "                                     ,'AAA','CPIAUCSL','EXUSEU','INDPRO','T5YIFRM','UNRATE','GDPC1',\"neg_class\"]))\n",
    "X=scaler.transform(Concat_final.drop(columns=['Classifier 3Y02','Classifier 3Y04','Classifier 3Y05',\\\n",
    "                               'Classifier 3Y07','Classifier 3Y09','Classifier 3Y15',\\\n",
    "                                              'Ticker','index','True_Return'\\\n",
    "                                             ,'AAA','CPIAUCSL','EXUSEU','INDPRO','T5YIFRM','UNRATE','GDPC1',\"neg_class\"])\\\n",
    "                  [Concat_final[\"index\"]<2015])\n",
    "\n",
    "Y=Concat_final[\"neg_class\"][Concat_final[\"index\"]<2015]\n",
    "\n",
    "\n",
    "Y_test = Concat_final[\"neg_class\"][Concat_final[\"index\"]>=2015]\n",
    "X_test = scaler.transform(Concat_final.drop(columns=['Classifier 3Y02','Classifier 3Y04','Classifier 3Y05',\\\n",
    "                               'Classifier 3Y07','Classifier 3Y09','Classifier 3Y15',\\\n",
    "                                              'Ticker','index','True_Return'\\\n",
    "                                             ,'AAA','CPIAUCSL','EXUSEU','INDPRO','T5YIFRM','UNRATE','GDPC1',\"neg_class\"])\\\n",
    "                  [Concat_final[\"index\"]>=2015])\n"
   ]
  },
  {
   "cell_type": "code",
   "execution_count": 10,
   "metadata": {},
   "outputs": [
    {
     "ename": "IndexError",
     "evalue": "boolean index did not match indexed array along dimension 0; dimension is 5300 but corresponding boolean dimension is 7071",
     "output_type": "error",
     "traceback": [
      "\u001b[1;31m---------------------------------------------------------------------------\u001b[0m",
      "\u001b[1;31mIndexError\u001b[0m                                Traceback (most recent call last)",
      "\u001b[1;32m<ipython-input-10-49c9ae3def70>\u001b[0m in \u001b[0;36m<module>\u001b[1;34m\u001b[0m\n\u001b[0;32m     42\u001b[0m                                        \u001b[0mConcat_final\u001b[0m\u001b[1;33m[\u001b[0m\u001b[1;33m[\u001b[0m\u001b[1;34m'Ticker'\u001b[0m\u001b[1;33m,\u001b[0m\u001b[1;34m'index'\u001b[0m\u001b[1;33m,\u001b[0m\u001b[1;34m'True_Return'\u001b[0m\u001b[1;33m]\u001b[0m\u001b[1;33m]\u001b[0m\u001b[0;31m\\\u001b[0m\u001b[1;33m\u001b[0m\u001b[1;33m\u001b[0m\u001b[0m\n\u001b[0;32m     43\u001b[0m                                       )[test_index]\n\u001b[1;32m---> 44\u001b[1;33m     \u001b[0msave_year_ticker_return_\u001b[0m \u001b[1;33m=\u001b[0m \u001b[0msave_year_ticker_return_\u001b[0m\u001b[1;33m[\u001b[0m\u001b[0mY_Pred_Proba\u001b[0m\u001b[1;33m[\u001b[0m\u001b[1;33m:\u001b[0m\u001b[1;33m,\u001b[0m\u001b[1;36m1\u001b[0m\u001b[1;33m]\u001b[0m\u001b[1;33m>\u001b[0m\u001b[1;36m0.8\u001b[0m\u001b[1;33m]\u001b[0m\u001b[1;33m\u001b[0m\u001b[1;33m\u001b[0m\u001b[0m\n\u001b[0m\u001b[0;32m     45\u001b[0m     \u001b[1;31m#print(\"Acc \"+str(metrics.accuracy_score(Y[test_index], Y_Pred,normalize=True, sample_weight=None)))\u001b[0m\u001b[1;33m\u001b[0m\u001b[1;33m\u001b[0m\u001b[1;33m\u001b[0m\u001b[0m\n\u001b[0;32m     46\u001b[0m \u001b[1;33m\u001b[0m\u001b[0m\n",
      "\u001b[1;31mIndexError\u001b[0m: boolean index did not match indexed array along dimension 0; dimension is 5300 but corresponding boolean dimension is 7071"
     ]
    }
   ],
   "source": [
    "#standard\n",
    "#scikit classifier\n",
    "num_folds = 5\n",
    "kfold = KFold(n_splits=num_folds, shuffle=True)\n",
    "\n",
    "## This section is needed for evaluation purposes only, not the actual machine learning\n",
    "P_Pred =0\n",
    "TP = 0\n",
    "FP = []\n",
    "Pos = []\n",
    "Pos_Pred = []\n",
    "TP_75=0\n",
    "FP_75=0\n",
    "TP_90=0\n",
    "FP_90=0\n",
    "TP_99=0\n",
    "FP_99=0\n",
    "Index_List_90 = []\n",
    "val_precision = []\n",
    "train_precision = []\n",
    "TP_this_list =[]\n",
    "FP_this_list =[]\n",
    "# dataframe empty\n",
    "save_year_ticker_return = []\n",
    "counter =1\n",
    "##\n",
    "\n",
    "for train_index, test_index in kfold.split(X, Y):\n",
    "    \n",
    "    counter+=1\n",
    "    clf = RandomForestClassifier(n_estimators=100, bootstrap= False, min_samples_split=2, min_samples_leaf=1,\\\n",
    "                                max_depth=80)\n",
    "    \n",
    "    clf.fit(np.array(X)[train_index], np.array(Y)[train_index])\n",
    "    #Y_Pred=clf.predict(np.array(X)[test_index])\n",
    "    #Y_Pred_Proba=clf.predict_proba(np.array(X)[test_index])\n",
    "    Y_Pred=clf.predict(np.array(X_test))\n",
    "    Y_Pred_Proba=clf.predict_proba(np.array(X_test))\n",
    "    \n",
    "    ## This section is needed for evaluation purposes only, not the actual machine learning\n",
    "    save_year_ticker_return_ = np.array(\\\n",
    "                                       Concat_final[['Ticker','index','True_Return']]\\\n",
    "                                      )[test_index]\n",
    "    save_year_ticker_return_ = save_year_ticker_return_[Y_Pred_Proba[:,1]>0.8]\n",
    "    #print(\"Acc \"+str(metrics.accuracy_score(Y[test_index], Y_Pred,normalize=True, sample_weight=None)))\n",
    "    \n",
    "    \n",
    "    TP_This = 0\n",
    "    FP_This = 0\n",
    "    Pos_This = 0\n",
    "    Pos_Pred_This = 0\n",
    "  \n",
    "    # Assume we would invest if the predicted probability is higher than 0.75; 0.9; 0.99\n",
    "    # Therefore evaluate Prescision at these levels\n",
    "    i=0\n",
    "    for t in test_index:\n",
    "        if Y_Pred_Proba[i][1]>0.75:\n",
    "            if 1==np.array(Y)[t]:\n",
    "                TP_75+=1\n",
    "                \n",
    "            else:\n",
    "                FP_75+=1\n",
    "        i+=1\n",
    "        \n",
    "        \n",
    "    i=0\n",
    "    for t in test_index:\n",
    "        if Y_Pred_Proba[i][1]>0.9:\n",
    "            if 1==np.array(Y)[t]:\n",
    "                TP_90+=1\n",
    "                TP_This+=1\n",
    "                Index_List_90.append(t)\n",
    "            else:\n",
    "                FP_90+=1\n",
    "                FP_This+=1\n",
    "        i+=1\n",
    "    \n",
    "    i=0\n",
    "    for t in test_index:\n",
    "        if Y_Pred_Proba[i][1]>0.99:\n",
    "            if 1==np.array(Y)[t]:\n",
    "                TP_99+=1\n",
    "            else:\n",
    "                FP_99+=1\n",
    "        i+=1\n",
    "\n",
    "\n",
    "\n",
    "\n",
    "    #TP.append(TP_This)\n",
    "    FP.append(FP_This)\n",
    "    #Pos.append(Pos_This)\n",
    "    #Pos_Pred.append(Pos_Pred_This)\n",
    "    val_precision.append(TP_This/(TP_This+FP_This))\n",
    "    TP_this_list.append(TP_This)\n",
    "    FP_this_list.append(FP_This)\n",
    "    print(\"This round: Precision 90: \"+str(TP_This/(TP_This+FP_This)))\n",
    "    \n",
    "    ##\n",
    "    \n",
    "    \n",
    "#\n",
    "# try except because often division by 0\n",
    "\n",
    "try: \n",
    "    print(\"Total Precision high: \"+str(TP_99/(TP_99+FP_99))+\"\\n\"+\\\n",
    "      \"True Positives:\"+ str(TP_99))\n",
    "except ZeroDivisionError:\n",
    "    pass\n",
    "\n",
    "\n",
    "try:\n",
    "    print(\"Total Precision mid: \"+str(TP_90/(TP_90+FP_90))+\"\\n\"+\\\n",
    "      \"True Positives:\"+ str(TP_90))\n",
    "except ZeroDivisionError:\n",
    "    pass\n",
    "\n",
    "try:\n",
    "    print(\"Total Precision low: \"+str(TP_75/(TP_75+FP_75))+\"\\n\"+\\\n",
    "        \"True Positives:\"+ str(TP_75))\n",
    "except ZeroDivisionError:\n",
    "    pass\n"
   ]
  },
  {
   "cell_type": "code",
   "execution_count": 74,
   "metadata": {
    "scrolled": true
   },
   "outputs": [],
   "source": [
    "# year split\n",
    "#scikit classifier\n",
    "num_folds = 5\n",
    "kfold = KFold(n_splits=num_folds, shuffle=True)\n",
    "\n",
    "## This section is needed for evaluation purposes only, not the actual machine learning\n",
    "P_Pred =0\n",
    "TP = 0\n",
    "FP = []\n",
    "Pos = []\n",
    "Pos_Pred = []\n",
    "TP_75=0\n",
    "FP_75=0\n",
    "TP_90=0\n",
    "FP_90=0\n",
    "TP_99=0\n",
    "FP_99=0\n",
    "Index_List_90 = []\n",
    "val_precision = []\n",
    "train_precision = []\n",
    "TP_this_list =[]\n",
    "FP_this_list =[]\n",
    "# dataframe empty\n",
    "save_year_ticker_return = []\n",
    "counter =1\n",
    "##\n",
    "\n",
    "for train_index, test_index in kfold.split(X, Y):\n",
    "    \n",
    "    counter+=1\n",
    "    clf = RandomForestClassifier(n_estimators=100, bootstrap= False, min_samples_split=2, min_samples_leaf=1,\\\n",
    "                                max_depth=80)\n",
    "    \n",
    "    clf.fit(np.array(X)[train_index], np.array(Y)[train_index])\n",
    "    #Y_Pred=clf.predict(np.array(X)[test_index])\n",
    "    #Y_Pred_Proba=clf.predict_proba(np.array(X)[test_index])\n",
    "    Y_Pred=clf.predict(np.array(X_test))\n",
    "    Y_Pred_Proba=clf.predict_proba(np.array(X_test))\n",
    "    \n",
    "    ## This section is needed for evaluation purposes only, not the actual machine learning\n",
    "    save_year_ticker_return_ = np.array(\\\n",
    "                                       Concat_final[['Ticker','index','True_Return']]\\\n",
    "                                      )[Concat_final[\"index\"]>=2015]\n",
    "    save_year_ticker_return_1 = save_year_ticker_return_[Y_Pred_Proba[:,1]>0.8]\n",
    "    save_year_ticker_return_2 = save_year_ticker_return_[Y_Pred_Proba[:,1]>0.65]\n",
    "    save_year_ticker_return_3 = save_year_ticker_return_[Y_Pred_Proba[:,1]>0.5]\n",
    "    #print(\"Acc \"+str(metrics.accuracy_score(Y[test_index], Y_Pred,normalize=True, sample_weight=None)))\n",
    "    \n",
    "    \n",
    "    TP_This = 0\n",
    "    FP_This = 0\n",
    "    Pos_This = 0\n",
    "    Pos_Pred_This = 0\n",
    "  \n",
    "    # Assume we would invest if the predicted probability is higher than 0.75; 0.9; 0.99\n",
    "    # Therefore evaluate Prescision at these levels\n",
    "#     i=0\n",
    "#     for t in test_index:\n",
    "#         if Y_Pred_Proba[i][1]>0.75:\n",
    "#             if 1==np.array(Y)[t]:\n",
    "#                 TP_75+=1\n",
    "                \n",
    "#             else:\n",
    "#                 FP_75+=1\n",
    "#         i+=1\n",
    "        \n",
    "        \n",
    "#     i=0\n",
    "#     for t in test_index:\n",
    "#         if Y_Pred_Proba[i][1]>0.9:\n",
    "#             if 1==np.array(Y)[t]:\n",
    "#                 TP_90+=1\n",
    "#                 TP_This+=1\n",
    "#                 Index_List_90.append(t)\n",
    "#             else:\n",
    "#                 FP_90+=1\n",
    "#                 FP_This+=1\n",
    "#         i+=1\n",
    "    \n",
    "#     i=0\n",
    "#     for t in test_index:\n",
    "#         if Y_Pred_Proba[i][1]>0.99:\n",
    "#             if 1==np.array(Y)[t]:\n",
    "#                 TP_99+=1\n",
    "#             else:\n",
    "#                 FP_99+=1\n",
    "#         i+=1\n",
    "\n",
    "\n",
    "\n",
    "\n",
    "#     #TP.append(TP_This)\n",
    "#     FP.append(FP_This)\n",
    "#     #Pos.append(Pos_This)\n",
    "#     #Pos_Pred.append(Pos_Pred_This)\n",
    "#     val_precision.append(TP_This/(TP_This+FP_This))\n",
    "#     TP_this_list.append(TP_This)\n",
    "#     FP_this_list.append(FP_This)\n",
    "#     print(\"This round: Precision 90: \"+str(TP_This/(TP_This+FP_This)))\n",
    "    \n",
    "#     ##\n",
    "    \n",
    "    \n",
    "#\n",
    "# try except because often division by 0\n",
    "\n",
    "# try: \n",
    "#     print(\"Total Precision high: \"+str(TP_99/(TP_99+FP_99))+\"\\n\"+\\\n",
    "#       \"True Positives:\"+ str(TP_99))\n",
    "# except ZeroDivisionError:\n",
    "#     pass\n",
    "\n",
    "\n",
    "# try:\n",
    "#     print(\"Total Precision mid: \"+str(TP_90/(TP_90+FP_90))+\"\\n\"+\\\n",
    "#       \"True Positives:\"+ str(TP_90))\n",
    "# except ZeroDivisionError:\n",
    "#     pass\n",
    "\n",
    "# try:\n",
    "#     print(\"Total Precision low: \"+str(TP_75/(TP_75+FP_75))+\"\\n\"+\\\n",
    "#         \"True Positives:\"+ str(TP_75))\n",
    "# except ZeroDivisionError:\n",
    "#     pass\n"
   ]
  },
  {
   "cell_type": "code",
   "execution_count": 75,
   "metadata": {},
   "outputs": [],
   "source": [
    "Selection = pd.DataFrame(save_year_ticker_return_1, columns = [\"Ticker\", \"year\",\"return\"])\n",
    "Selection2 = pd.DataFrame(save_year_ticker_return_2, columns = [\"Ticker\", \"year\",\"return\"])\n",
    "Selection3 = pd.DataFrame(save_year_ticker_return_3, columns = [\"Ticker\", \"year\",\"return\"])"
   ]
  },
  {
   "cell_type": "code",
   "execution_count": 98,
   "metadata": {},
   "outputs": [
    {
     "data": {
      "text/plain": [
       "0.7518518518518519"
      ]
     },
     "execution_count": 98,
     "metadata": {},
     "output_type": "execute_result"
    }
   ],
   "source": [
    "np.mean(Selection2[\"return\"]<0)"
   ]
  },
  {
   "cell_type": "code",
   "execution_count": 99,
   "metadata": {},
   "outputs": [
    {
     "data": {
      "text/plain": [
       "-0.5804780472807884"
      ]
     },
     "execution_count": 99,
     "metadata": {},
     "output_type": "execute_result"
    }
   ],
   "source": [
    "Selection2[\"return\"][Selection2[\"return\"]<0].mean()"
   ]
  },
  {
   "cell_type": "code",
   "execution_count": 91,
   "metadata": {},
   "outputs": [],
   "source": [
    "Selection2.to_csv(\"Selection.csv\")"
   ]
  },
  {
   "cell_type": "code",
   "execution_count": 43,
   "metadata": {},
   "outputs": [
    {
     "data": {
      "image/png": "[encoded data removed]",
      "text/plain": [
       "<Figure size 432x288 with 1 Axes>"
      ]
     },
     "metadata": {
      "needs_background": "light"
     },
     "output_type": "display_data"
    }
   ],
   "source": [
    "# distribution of selection over years is quite even\n",
    "# -> the model success is not based on learning: \"financial crisis 2008 -> not invest in 2008\"\n",
    "# additionally, we get enough stocks to build a portfolio (way above 50)\n",
    "figure2 = plt.hist(Selection2[\"year\"], density = False, range = (2009,2020),bins = 9)"
   ]
  },
  {
   "cell_type": "code",
   "execution_count": 78,
   "metadata": {
    "scrolled": true
   },
   "outputs": [
    {
     "data": {
      "text/plain": [
       "count      178\n",
       "unique     129\n",
       "top       OPTT\n",
       "freq         3\n",
       "Name: Ticker, dtype: object"
      ]
     },
     "execution_count": 78,
     "metadata": {},
     "output_type": "execute_result"
    }
   ],
   "source": [
    "# the most frequent element is not too frequent\n",
    "# the model does not learn \"Apple always goes up -> always buy apple\"\n",
    "Selection2[\"Ticker\"].describe()"
   ]
  },
  {
   "cell_type": "code",
   "execution_count": 44,
   "metadata": {},
   "outputs": [
    {
     "data": {
      "text/plain": [
       "count       0\n",
       "unique      0\n",
       "top       NaN\n",
       "freq      NaN\n",
       "Name: Ticker, dtype: object"
      ]
     },
     "execution_count": 44,
     "metadata": {},
     "output_type": "execute_result"
    }
   ],
   "source": [
    "# selection based on full dataset\n",
    "Concat_final['Ticker'].iloc[Index_List_90].describe()"
   ]
  },
  {
   "cell_type": "code",
   "execution_count": 100,
   "metadata": {},
   "outputs": [
    {
     "name": "stdout",
     "output_type": "stream",
     "text": [
      "-0.2936852949329065\n",
      "-0.37660831215555557\n",
      "0.05452404500657506\n",
      "0.33604082454441914\n"
     ]
    }
   ],
   "source": [
    "# The selected Portfolio outperforms... not:\n",
    "# Selected Portfolio Return\n",
    "print((np.power(Selection[\"return\"]+1, 1/3)-1).mean())\n",
    "print((Selection[\"return\"]).mean())\n",
    "# Benchmark Return: Buy and hold the market\n",
    "print((np.power(Concat_final[\"True_Return\"]+1, 1/3)-1).mean())\n",
    "print((Concat_final[\"True_Return\"]).mean())"
   ]
  },
  {
   "cell_type": "code",
   "execution_count": 51,
   "metadata": {
    "scrolled": true
   },
   "outputs": [
    {
     "data": {
      "image/png": "[encoded data removed]",
      "text/plain": [
       "<Figure size 432x288 with 1 Axes>"
      ]
     },
     "metadata": {
      "needs_background": "light"
     },
     "output_type": "display_data"
    }
   ],
   "source": [
    "fig = plt.hist(Concat_final[\"True_Return\"],range = (-2,10),bins = 100)"
   ]
  },
  {
   "cell_type": "code",
   "execution_count": 64,
   "metadata": {
    "scrolled": false
   },
   "outputs": [
    {
     "data": {
      "text/plain": [
       "-0.07024464428865278"
      ]
     },
     "execution_count": 64,
     "metadata": {},
     "output_type": "execute_result"
    }
   ],
   "source": [
    "(Selection3[\"return\"]).mean()/Selection3[\"return\"].std()"
   ]
  },
  {
   "cell_type": "code",
   "execution_count": 53,
   "metadata": {},
   "outputs": [
    {
     "data": {
      "text/plain": [
       "0.5850415317311886"
      ]
     },
     "execution_count": 53,
     "metadata": {},
     "output_type": "execute_result"
    }
   ],
   "source": [
    "Selection[\"return\"].std()"
   ]
  },
  {
   "cell_type": "code",
   "execution_count": 26,
   "metadata": {},
   "outputs": [
    {
     "data": {
      "text/plain": [
       "0.8141720418835511"
      ]
     },
     "execution_count": 26,
     "metadata": {},
     "output_type": "execute_result"
    }
   ],
   "source": [
    "Concat_final[\"True_Return\"][Concat_final[\"index\"]>=2015].std()"
   ]
  },
  {
   "cell_type": "code",
   "execution_count": 18,
   "metadata": {},
   "outputs": [
    {
     "data": {
      "text/plain": [
       "0.1949654581448407"
      ]
     },
     "execution_count": 18,
     "metadata": {},
     "output_type": "execute_result"
    }
   ],
   "source": [
    "Concat_final[\"True_Return\"][Concat_final[\"index\"]>=2015].mean()/Concat_final[\"True_Return\"][Concat_final[\"index\"]>=2015].std()"
   ]
  },
  {
   "cell_type": "code",
   "execution_count": 96,
   "metadata": {},
   "outputs": [
    {
     "data": {
      "image/png": "[encoded data removed]",
      "text/plain": [
       "<Figure size 432x288 with 1 Axes>"
      ]
     },
     "metadata": {
      "needs_background": "light"
     },
     "output_type": "display_data"
    }
   ],
   "source": [
    "# downside protection is very effective\n",
    "plt.figure()\n",
    "figure4 = plt.hist((Selection[\"return\"]),range = (-1,5),bins = 100, density = False, alpha = 0.7, color =\"b\")\n",
    "figure3=plt.hist(Concat_final[\"True_Return\"][Concat_final[\"index\"]>=2015]\\\n",
    "                 ,range = (-1,5),bins = 100, density = False, alpha = 0.6, color =\"r\")"
   ]
  },
  {
   "cell_type": "code",
   "execution_count": 51,
   "metadata": {},
   "outputs": [
    {
     "data": {
      "image/png": "[encoded data removed]",
      "text/plain": [
       "<Figure size 432x288 with 1 Axes>"
      ]
     },
     "metadata": {
      "needs_background": "light"
     },
     "output_type": "display_data"
    }
   ],
   "source": [
    "# Outperformance is seen by just eyeballing the return histograms\n",
    "# blue is the selected portfolio. Density is much lower for returns below 0, which drives outperformance. \n",
    "plt.figure()\n",
    "figure4 = plt.hist((Selection2[\"return\"]),range = (-1,5),bins = 100, density = True, alpha = 0.7, color =\"b\")\n",
    "figure3=plt.hist(Concat_final[\"True_Return\"].reindex(index = test_index)\\\n",
    "                 ,range = (-1,5),bins = 100, density = True, alpha = 0.6, color =\"r\")"
   ]
  },
  {
   "cell_type": "code",
   "execution_count": 104,
   "metadata": {
    "scrolled": true
   },
   "outputs": [
    {
     "name": "stderr",
     "output_type": "stream",
     "text": [
      "C:\\Users\\Vincent\\anaconda3\\lib\\site-packages\\numpy\\lib\\histograms.py:908: RuntimeWarning: invalid value encountered in true_divide\n",
      "  return n/db/n.sum(), bin_edges\n"
     ]
    },
    {
     "data": {
      "image/png": "[encoded data removed]",
      "text/plain": [
       "<Figure size 432x288 with 1 Axes>"
      ]
     },
     "metadata": {
      "needs_background": "light"
     },
     "output_type": "display_data"
    }
   ],
   "source": [
    "# \n",
    "\n",
    "# Outperformance is seen by just eyeballing the return histograms\n",
    "# blue is the selected portfolio. Density is much lower for returns below 0, which drives outperformance. \n",
    "plt.figure()\n",
    "figure4 = plt.hist((Selection[\"return\"][Selection[\"year\"]<2009]),range = (-1,10),bins = 100, density = True, alpha = 0.7, color =\"b\")\n",
    "figure3=plt.hist(Concat_final[\"True_Return\"].reindex(index = test_index)\\\n",
    "                 ,range = (-1,10),bins = 100, density = True, alpha = 0.6, color =\"r\")"
   ]
  },
  {
   "cell_type": "code",
   "execution_count": 70,
   "metadata": {},
   "outputs": [
    {
     "name": "stdout",
     "output_type": "stream",
     "text": [
      "0.17737469838541517\n",
      "0.057943175851096235\n"
     ]
    }
   ],
   "source": [
    "# Outperformance holds even for 2000-2009 period:\n",
    "# Selected Portfolio Return\n",
    "print((np.power(Selection[\"return\"][Selection[\"year\"]<2009]+1, 1/3)-1).mean())\n",
    "\n",
    "# Benchmark Return: Buy and hold the market\n",
    "print((np.power(Concat_final[\"True_Return\"].reindex(index = test_index)+1, 1/3)-1).mean())"
   ]
  },
  {
   "cell_type": "code",
   "execution_count": 21,
   "metadata": {},
   "outputs": [],
   "source": [
    "# Importance=pd.DataFrame({'Variable':X.columns,\n",
    "#               'Importance':clf.feature_importances_}).sort_values('Importance', ascending=False)\n",
    "# Importance.head(50)"
   ]
  },
  {
   "cell_type": "code",
   "execution_count": 68,
   "metadata": {
    "scrolled": true
   },
   "outputs": [
    {
     "data": {
      "text/plain": [
       "RandomForestClassifier(bootstrap=True, ccp_alpha=0.0, class_weight=None,\n",
       "                       criterion='gini', max_depth=None, max_features='auto',\n",
       "                       max_leaf_nodes=None, max_samples=None,\n",
       "                       min_impurity_decrease=0.0, min_impurity_split=None,\n",
       "                       min_samples_leaf=1, min_samples_split=2,\n",
       "                       min_weight_fraction_leaf=0.0, n_estimators=50,\n",
       "                       n_jobs=None, oob_score=False, random_state=None,\n",
       "                       verbose=0, warm_start=False)"
      ]
     },
     "execution_count": 68,
     "metadata": {},
     "output_type": "execute_result"
    }
   ],
   "source": [
    "# final fit and pickle clf\n",
    "clf.fit(np.array(X), np.array(Y))"
   ]
  },
  {
   "cell_type": "code",
   "execution_count": 19,
   "metadata": {},
   "outputs": [],
   "source": [
    "with open('C:\\\\Users\\\\Vincent\\\\01 Python_Working_Directory\\\\Z9\\\\Data\\\\FMP\\\\Train\\\\FMP_RF.pickle', 'wb') as handle:\n",
    "    pickle.dump(clf, handle)\n",
    "\n",
    "# pickle_out = open(\"C:\\\\Users\\\\Vincent\\\\01 Python_Working_Directory\\\\Z9\\\\Data\\\\FMP\\\\Train\\\\FMP_RF.pickle\",\"rb\")\n",
    "# pickle.dump(clf, pickle_out)\n",
    "# pickle_out.close()\n",
    "# pickle scaler\n",
    "\n",
    "with open('C:\\\\Users\\\\Vincent\\\\01 Python_Working_Directory\\\\Z9\\\\Data\\\\FMP\\\\Train\\\\FMP_Scaler.pickle',\"wb\") as handle:\n",
    "    pickle.dump(scaler, handle)"
   ]
  },
  {
   "cell_type": "code",
   "execution_count": 32,
   "metadata": {
    "scrolled": true
   },
   "outputs": [
    {
     "data": {
      "image/png": "[encoded data removed]",
      "text/plain": [
       "<Figure size 432x288 with 1 Axes>"
      ]
     },
     "metadata": {
      "needs_background": "light"
     },
     "output_type": "display_data"
    },
    {
     "data": {
      "text/plain": [
       "<BarContainer object of 5 artists>"
      ]
     },
     "execution_count": 32,
     "metadata": {},
     "output_type": "execute_result"
    },
    {
     "data": {
      "image/png": "[encoded data removed]",
      "text/plain": [
       "<Figure size 432x288 with 1 Axes>"
      ]
     },
     "metadata": {
      "needs_background": "light"
     },
     "output_type": "display_data"
    }
   ],
   "source": [
    "plt.plot(val_precision, \"bo\")\n",
    "plt.ylim(ymax = 1, ymin = 0)\n",
    "plt.show()\n",
    "plt.bar([1,2,3,4,5],TP_this_list)\n",
    "plt.bar([1,2,3,4,5],FP_this_list)"
   ]
  },
  {
   "cell_type": "markdown",
   "metadata": {},
   "source": [
    "## Below follows a Neural Network approach for the same problem"
   ]
  },
  {
   "cell_type": "code",
   "execution_count": 36,
   "metadata": {},
   "outputs": [],
   "source": [
    "# this has been done for the random forest already\n",
    "\n",
    "# scaler = StandardScaler()\n",
    "# scaler.fit(Concat_final.drop(columns=['Classifier 3Y02','Classifier 3Y04','Classifier 3Y05',\\\n",
    "#                                'Classifier 3Y07','Classifier 3Y09','Classifier 3Y15','Ticker','index']))\n",
    "# X=scaler.transform(Concat_final.drop(columns=['Classifier 3Y02','Classifier 3Y04','Classifier 3Y05',\\\n",
    "#                                 'Classifier 3Y07','Classifier 3Y09','Classifier 3Y15','Ticker','index']))\n",
    "# #without scaling\n",
    "# # X=np.array(Concat_final.drop(columns=['Classifier 3Y02','Classifier 3Y04','Classifier 3Y05',\\\n",
    "# #                                'Classifier 3Y07','Classifier 3Y09','Classifier 3Y15','Ticker','index']))\n",
    "\n",
    "# Y=Concat_final['Classifier 3Y05']"
   ]
  },
  {
   "cell_type": "code",
   "execution_count": 39,
   "metadata": {},
   "outputs": [
    {
     "name": "stdout",
     "output_type": "stream",
     "text": [
      "\n",
      "__________________________\n",
      "\n",
      " Fold Number: 1\n",
      " __________________________\n",
      "\n",
      "Train on 13448 samples, validate on 6725 samples\n",
      "Epoch 1/10\n",
      "13448/13448 [==============================] - 2s 123us/step - loss: 0.6884 - precision: 0.6122 - precision2: 0.0000e+00 - accuracy: 0.5585 - true_positives: 6612.0000 - false_positives: 4978.0000 - val_loss: 0.6831 - val_precision: 0.0000e+00 - val_precision2: 0.0000e+00 - val_accuracy: 0.5625 - val_true_positives: 3638.0000 - val_false_positives: 2854.0000\n",
      "Epoch 2/10\n",
      "13448/13448 [==============================] - 1s 92us/step - loss: 0.6782 - precision: 0.6699 - precision2: 0.0000e+00 - accuracy: 0.5756 - true_positives: 7139.0000 - false_positives: 5276.0000 - val_loss: 0.6823 - val_precision: 0.7246 - val_precision2: 0.0000e+00 - val_accuracy: 0.5639 - val_true_positives: 3634.0000 - val_false_positives: 2841.0000\n",
      "Epoch 3/10\n",
      "13448/13448 [==============================] - 1s 91us/step - loss: 0.6746 - precision: 0.6957 - precision2: 0.0000e+00 - accuracy: 0.5830 - true_positives: 7125.0000 - false_positives: 5162.0000 - val_loss: 0.6798 - val_precision: 0.7154 - val_precision2: 0.0000e+00 - val_accuracy: 0.5655 - val_true_positives: 3617.0000 - val_false_positives: 2813.0000\n",
      "Epoch 4/10\n",
      "13448/13448 [==============================] - 1s 88us/step - loss: 0.6711 - precision: 0.6888 - precision2: 0.0000e+00 - accuracy: 0.5890 - true_positives: 7030.0000 - false_positives: 4986.0000 - val_loss: 0.6788 - val_precision: 0.7320 - val_precision2: 0.0000e+00 - val_accuracy: 0.5741 - val_true_positives: 2583.0000 - val_false_positives: 1721.0000\n",
      "Epoch 5/10\n",
      "13448/13448 [==============================] - 1s 77us/step - loss: 0.6684 - precision: 0.6914 - precision2: 0.0000e+00 - accuracy: 0.5918 - true_positives: 6766.0000 - false_positives: 4684.0000 - val_loss: 0.6741 - val_precision: 0.6600 - val_precision2: 0.0000e+00 - val_accuracy: 0.5729 - val_true_positives: 3489.0000 - val_false_positives: 2635.0000\n",
      "Epoch 6/10\n",
      "13448/13448 [==============================] - 1s 92us/step - loss: 0.6670 - precision: 0.7074 - precision2: 0.0000e+00 - accuracy: 0.5906 - true_positives: 6811.0000 - false_positives: 4746.0000 - val_loss: 0.6732 - val_precision: 0.6797 - val_precision2: 0.0000e+00 - val_accuracy: 0.5752 - val_true_positives: 3448.0000 - val_false_positives: 2579.0000\n",
      "Epoch 7/10\n",
      "13448/13448 [==============================] - 1s 83us/step - loss: 0.6662 - precision: 0.7162 - precision2: 1.0000 - accuracy: 0.5878 - true_positives: 6869.0000 - false_positives: 4841.0000 - val_loss: 0.6738 - val_precision: 0.7006 - val_precision2: 1.0000 - val_accuracy: 0.5743 - val_true_positives: 3538.0000 - val_false_positives: 2675.0000\n",
      "Epoch 8/10\n",
      "13448/13448 [==============================] - 1s 90us/step - loss: 0.6662 - precision: 0.7182 - precision2: 0.7500 - accuracy: 0.5923 - true_positives: 6859.0000 - false_positives: 4771.0000 - val_loss: 0.6721 - val_precision: 0.7056 - val_precision2: 1.0000 - val_accuracy: 0.5780 - val_true_positives: 3403.0000 - val_false_positives: 2515.0000\n",
      "Epoch 9/10\n",
      "13448/13448 [==============================] - 1s 83us/step - loss: 0.6636 - precision: 0.7422 - precision2: 0.7500 - accuracy: 0.5932 - true_positives: 6774.0000 - false_positives: 4674.0000 - val_loss: 0.6788 - val_precision: 0.7036 - val_precision2: 1.0000 - val_accuracy: 0.5744 - val_true_positives: 3534.0000 - val_false_positives: 2670.0000\n",
      "Epoch 10/10\n",
      "13448/13448 [==============================] - 1s 83us/step - loss: 0.6633 - precision: 0.7310 - precision2: 0.9048 - accuracy: 0.5947 - true_positives: 6885.0000 - false_positives: 4765.0000 - val_loss: 0.6723 - val_precision: 0.7635 - val_precision2: 1.0000 - val_accuracy: 0.5768 - val_true_positives: 3494.0000 - val_false_positives: 2614.0000\n",
      "\n",
      "__________________________\n",
      "\n",
      " Fold Number: 2\n",
      " __________________________\n",
      "\n",
      "Train on 13449 samples, validate on 6724 samples\n",
      "Epoch 1/10\n",
      "13449/13449 [==============================] - 2s 116us/step - loss: 0.6924 - precision: 0.5697 - precision2: 0.0000e+00 - accuracy: 0.5515 - true_positives: 6438.0000 - false_positives: 5013.0000 - val_loss: 0.6777 - val_precision: 0.0000e+00 - val_precision2: 0.0000e+00 - val_accuracy: 0.5799 - val_true_positives: 3798.0000 - val_false_positives: 2783.0000\n",
      "Epoch 2/10\n",
      "13449/13449 [==============================] - 1s 100us/step - loss: 0.6838 - precision: 0.6757 - precision2: 0.0000e+00 - accuracy: 0.5632 - true_positives: 6997.0000 - false_positives: 5415.0000 - val_loss: 0.6796 - val_precision: 0.0000e+00 - val_precision2: 0.0000e+00 - val_accuracy: 0.5940 - val_true_positives: 3607.0000 - val_false_positives: 2497.0000\n",
      "Epoch 3/10\n",
      "13449/13449 [==============================] - 1s 80us/step - loss: 0.6806 - precision: 0.6667 - precision2: 0.0000e+00 - accuracy: 0.5690 - true_positives: 6940.0000 - false_positives: 5280.0000 - val_loss: 0.6711 - val_precision: 0.7419 - val_precision2: 0.0000e+00 - val_accuracy: 0.5944 - val_true_positives: 3646.0000 - val_false_positives: 2533.0000\n",
      "Epoch 4/10\n",
      "13449/13449 [==============================] - 1s 75us/step - loss: 0.6767 - precision: 0.6567 - precision2: 0.0000e+00 - accuracy: 0.5741 - true_positives: 6728.0000 - false_positives: 4999.0000 - val_loss: 0.6675 - val_precision: 0.6934 - val_precision2: 0.0000e+00 - val_accuracy: 0.5943 - val_true_positives: 3663.0000 - val_false_positives: 2551.0000\n",
      "Epoch 5/10\n",
      "13449/13449 [==============================] - 1s 84us/step - loss: 0.6759 - precision: 0.6952 - precision2: 0.0000e+00 - accuracy: 0.5754 - true_positives: 6650.0000 - false_positives: 4903.0000 - val_loss: 0.6654 - val_precision: 0.6973 - val_precision2: 0.8571 - val_accuracy: 0.5998 - val_true_positives: 3590.0000 - val_false_positives: 2441.0000\n",
      "Epoch 6/10\n",
      "13449/13449 [==============================] - 1s 79us/step - loss: 0.6737 - precision: 0.7083 - precision2: 0.6667 - accuracy: 0.5726 - true_positives: 6490.0000 - false_positives: 4781.0000 - val_loss: 0.6649 - val_precision: 0.7922 - val_precision2: 0.0000e+00 - val_accuracy: 0.6072 - val_true_positives: 3447.0000 - val_false_positives: 2248.0000\n",
      "Epoch 7/10\n",
      "13449/13449 [==============================] - 1s 74us/step - loss: 0.6719 - precision: 0.7271 - precision2: 1.0000 - accuracy: 0.5804 - true_positives: 6256.0000 - false_positives: 4442.0000 - val_loss: 0.6651 - val_precision: 0.8095 - val_precision2: 0.7500 - val_accuracy: 0.6028 - val_true_positives: 3587.0000 - val_false_positives: 2418.0000\n",
      "Epoch 8/10\n",
      "13449/13449 [==============================] - 1s 77us/step - loss: 0.6693 - precision: 0.7334 - precision2: 1.0000 - accuracy: 0.5777 - true_positives: 6364.0000 - false_positives: 4586.0000 - val_loss: 0.6681 - val_precision: 0.7563 - val_precision2: 0.8500 - val_accuracy: 0.5732 - val_true_positives: 2150.0000 - val_false_positives: 1180.0000\n",
      "Epoch 9/10\n",
      "13449/13449 [==============================] - 1s 94us/step - loss: 0.6701 - precision: 0.7286 - precision2: 0.9375 - accuracy: 0.5783 - true_positives: 6244.0000 - false_positives: 4458.0000 - val_loss: 0.6677 - val_precision: 0.7765 - val_precision2: 0.8000 - val_accuracy: 0.5986 - val_true_positives: 2845.0000 - val_false_positives: 1704.0000\n",
      "Epoch 10/10\n",
      "13449/13449 [==============================] - 1s 83us/step - loss: 0.6687 - precision: 0.7325 - precision2: 1.0000 - accuracy: 0.5809 - true_positives: 6364.0000 - false_positives: 4543.0000 - val_loss: 0.6669 - val_precision: 0.8025 - val_precision2: 0.8182 - val_accuracy: 0.5931 - val_true_positives: 2740.0000 - val_false_positives: 1636.0000\n",
      "\n",
      "__________________________\n",
      "\n",
      " Fold Number: 3\n",
      " __________________________\n",
      "\n",
      "Train on 13449 samples, validate on 6724 samples\n",
      "Epoch 1/10\n",
      "13449/13449 [==============================] - 1s 102us/step - loss: 0.6876 - precision: 0.5654 - precision2: 0.0000e+00 - accuracy: 0.5575 - true_positives: 6694.0000 - false_positives: 5079.0000 - val_loss: 0.6820 - val_precision: 0.4000 - val_precision2: 0.0000e+00 - val_accuracy: 0.5647 - val_true_positives: 3685.0000 - val_false_positives: 2881.0000\n",
      "Epoch 2/10\n",
      "13449/13449 [==============================] - 1s 84us/step - loss: 0.6802 - precision: 0.7092 - precision2: 0.0000e+00 - accuracy: 0.5720 - true_positives: 7204.0000 - false_positives: 5394.0000 - val_loss: 0.6797 - val_precision: 0.5357 - val_precision2: 0.0000e+00 - val_accuracy: 0.5735 - val_true_positives: 3588.0000 - val_false_positives: 2725.0000\n",
      "Epoch 3/10\n",
      "13449/13449 [==============================] - 1s 84us/step - loss: 0.6760 - precision: 0.6925 - precision2: 0.0000e+00 - accuracy: 0.5815 - true_positives: 7036.0000 - false_positives: 5098.0000 - val_loss: 0.6912 - val_precision: 0.6417 - val_precision2: 0.0000e+00 - val_accuracy: 0.5726 - val_true_positives: 3649.0000 - val_false_positives: 2792.0000\n",
      "Epoch 4/10\n",
      "13449/13449 [==============================] - 1s 92us/step - loss: 0.6729 - precision: 0.6897 - precision2: 0.0000e+00 - accuracy: 0.5854 - true_positives: 6770.0000 - false_positives: 4780.0000 - val_loss: 0.6759 - val_precision: 0.2308 - val_precision2: 0.0000e+00 - val_accuracy: 0.5803 - val_true_positives: 3380.0000 - val_false_positives: 2471.0000\n",
      "Epoch 5/10\n",
      "13449/13449 [==============================] - 1s 77us/step - loss: 0.6703 - precision: 0.6826 - precision2: 0.0000e+00 - accuracy: 0.5899 - true_positives: 6646.0000 - false_positives: 4596.0000 - val_loss: 0.6729 - val_precision: 0.6104 - val_precision2: 0.0000e+00 - val_accuracy: 0.5764 - val_true_positives: 3527.0000 - val_false_positives: 2644.0000\n",
      "Epoch 6/10\n",
      "13449/13449 [==============================] - 1s 76us/step - loss: 0.6688 - precision: 0.7004 - precision2: 0.0000e+00 - accuracy: 0.5863 - true_positives: 6625.0000 - false_positives: 4623.0000 - val_loss: 0.6732 - val_precision: 0.6796 - val_precision2: 0.0000e+00 - val_accuracy: 0.5776 - val_true_positives: 3450.0000 - val_false_positives: 2559.0000\n",
      "Epoch 7/10\n",
      "13449/13449 [==============================] - 1s 77us/step - loss: 0.6667 - precision: 0.6992 - precision2: 0.0000e+00 - accuracy: 0.5905 - true_positives: 6470.0000 - false_positives: 4412.0000 - val_loss: 0.6707 - val_precision: 0.6362 - val_precision2: 0.0000e+00 - val_accuracy: 0.5806 - val_true_positives: 3317.0000 - val_false_positives: 2406.0000\n",
      "Epoch 8/10\n",
      "13449/13449 [==============================] - 1s 88us/step - loss: 0.6659 - precision: 0.7153 - precision2: 0.0000e+00 - accuracy: 0.5884 - true_positives: 6563.0000 - false_positives: 4533.0000 - val_loss: 0.6698 - val_precision: 0.0000e+00 - val_precision2: 0.0000e+00 - val_accuracy: 0.5763 - val_true_positives: 3475.0000 - val_false_positives: 2593.0000\n",
      "Epoch 9/10\n",
      "13449/13449 [==============================] - 1s 78us/step - loss: 0.6653 - precision: 0.6976 - precision2: 0.0000e+00 - accuracy: 0.5905 - true_positives: 6533.0000 - false_positives: 4474.0000 - val_loss: 0.6712 - val_precision: 0.6737 - val_precision2: 0.0000e+00 - val_accuracy: 0.5756 - val_true_positives: 3625.0000 - val_false_positives: 2748.0000\n",
      "Epoch 10/10\n",
      "13449/13449 [==============================] - 1s 88us/step - loss: 0.6645 - precision: 0.7092 - precision2: 0.0000e+00 - accuracy: 0.5937 - true_positives: 6678.0000 - false_positives: 4577.0000 - val_loss: 0.6724 - val_precision: 0.6688 - val_precision2: 0.0000e+00 - val_accuracy: 0.5934 - val_true_positives: 2941.0000 - val_false_positives: 1944.0000\n"
     ]
    }
   ],
   "source": [
    "num_folds = 3\n",
    "kfold = KFold(n_splits=num_folds, shuffle=True)\n",
    "\n",
    "# Some containers for storing and plotting:\n",
    "acc = []\n",
    "val_acc = []\n",
    "precision = []\n",
    "val_precision2 = []\n",
    "val_precision = []\n",
    "recall = []\n",
    "val_recall = []\n",
    "auc = []\n",
    "val_auc =[]\n",
    "Recall_Regime_Weights=[]\n",
    "TP_Regimes =[]\n",
    "\n",
    "\n",
    "num_epochs = 10\n",
    "P_Pred=0\n",
    "P=Y.sum()\n",
    "Fold_count=1\n",
    "\n",
    "#kfold.split(X, Y)\n",
    "  #https://stackabuse.com/time-series-analysis-with-lstm-using-pythons-keras-library/\n",
    "for train_index, test_index in kfold.split(X, Y):\n",
    "    \n",
    "    P_This_Fold=np.array(Y)[test_index].sum()\n",
    "    \n",
    "    Recall_Current_Regime_Weight = P_This_Fold/P    \n",
    "    Recall_Regime_Weights.append(Recall_Current_Regime_Weight)\n",
    "    \n",
    "    print('\\n__________________________\\n\\n Fold Number: '+str(Fold_count)+'\\n __________________________\\n')\n",
    "    Fold_count+=1\n",
    "    \n",
    "    X_features_set = X[train_index]\n",
    "    Y_features_set = np.array(Y)[train_index]\n",
    "    x_features_set = X[test_index]\n",
    "    y_features_set = np.array(Y)[test_index]\n",
    "     \n",
    "    \n",
    "    input_shape = (119,)\n",
    "    network=None\n",
    "    opt=Adam(lr=0.01)\n",
    "    \n",
    "    \n",
    "    Input_object = Input(shape =input_shape, name='Input', dtype='float32')\n",
    "    \n",
    "    \n",
    "    Dense1 = Dense(60, activation='sigmoid', name='Dense1', input_shape=input_shape)(Input_object)\n",
    "    Dropout1= Dropout(0.08)(Dense1)\n",
    "    Dense2 = Dense(60, activation='sigmoid', name='Dense2')(Dropout1)\n",
    "    Dropout2= Dropout(0.08)(Dense2)\n",
    "    Dense3 = Dense(1, activation='sigmoid', name='Output')(Dropout2)\n",
    "    \n",
    "    \n",
    "    network = Model([Input_object], Dense3)\n",
    "    \n",
    "    \n",
    "  \n",
    "    network.compile(optimizer=opt,\\\n",
    "                   loss='binary_crossentropy',\\\n",
    "                   metrics=[Precision(thresholds=0.7, name = 'precision'), \\\n",
    "                            Precision(thresholds=0.9, name = 'precision2'),\\\n",
    "                            #Recall(thresholds=0.5, name='recall'), \\\n",
    "                            #AUC(name='auc'), \\\n",
    "                            'accuracy', \\\n",
    "                            TruePositives(name = 'true_positives'), \\\n",
    "                            FalsePositives(name = 'false_positives') \\\n",
    "                           ])\n",
    "    \n",
    "    history=network.fit(X_features_set, Y_features_set, epochs=num_epochs, validation_data=(x_features_set, y_features_set))\n",
    "    \n",
    "    TP_Regimes.append(history.history['val_true_positives'])\n",
    "    P_Pred= P_Pred + np.array(history.history['val_true_positives'][-3:]).mean() \\\n",
    "    + np.array(history.history['val_false_positives'][-3:]).mean()\n",
    "    \n",
    "    \n",
    "    acc.append(history.history['accuracy'])\n",
    "    val_acc.append(history.history['val_accuracy'])\n",
    "    precision.append(history.history['precision'])\n",
    "    val_precision.append(history.history['val_precision'])\n",
    "    val_precision2.append(history.history['val_precision2'])\n",
    "#     recall.append(history.history['recall'])\n",
    "#     val_recall.append(history.history['val_recall'])\n",
    "#     auc.append(history.history['auc'])\n",
    "#     val_auc.append(history.history['val_auc'])"
   ]
  },
  {
   "cell_type": "code",
   "execution_count": 41,
   "metadata": {
    "scrolled": false
   },
   "outputs": [
    {
     "data": {
      "image/png": "[encoded data removed]",
      "text/plain": [
       "<Figure size 864x432 with 1 Axes>"
      ]
     },
     "metadata": {
      "needs_background": "light"
     },
     "output_type": "display_data"
    },
    {
     "data": {
      "image/png": "[encoded data removed]",
      "text/plain": [
       "<Figure size 864x432 with 1 Axes>"
      ]
     },
     "metadata": {
      "needs_background": "light"
     },
     "output_type": "display_data"
    }
   ],
   "source": [
    "epochs = range(1, len(acc[0]) + 1)\n",
    "\n",
    "\n",
    "colorlist = ['blue','cyan','purple','pink','orange','red','brown','gray','olive','green']\n",
    "\n",
    "plt.figure(figsize=(12,6))\n",
    "i=0\n",
    "while i <  len(acc):\n",
    "    plt.plot(epochs, acc[i] , 'bo', label='Training acc', color = colorlist[i])\n",
    "    plt.plot(epochs, val_acc[i], 'b', label='Validation acc', color=colorlist[i])\n",
    "    \n",
    "    ax= plt.gca()\n",
    "    ax.tick_params(direction='in')\n",
    "    i+=1\n",
    "#plt.ylim(ymax = 1, ymin = 0.6)\n",
    "plt.title('Training and validation accuracy')\n",
    "\n",
    "\n",
    "plt.figure(figsize=(12,6))\n",
    "i=0\n",
    "while i <  len(acc):\n",
    "    plt.plot(epochs, precision[i] , 'bo', label='Precision', color = colorlist[i])\n",
    "    \n",
    "    # precision for different thresholds\n",
    "    plt.plot(epochs, val_precision[i], 'b', label='val_precision', color=colorlist[i])\n",
    "    plt.plot(epochs, val_precision2[i], 'x', label='val_precision', color=colorlist[i])\n",
    "    i+=1\n",
    "#plt.ylim(ymax = 1, ymin = 0.6)\n",
    "plt.title('Training and validation precision')\n",
    "\n",
    "# plt.figure(figsize=(12,6))\n",
    "# i=0\n",
    "# while i <  len(acc):\n",
    "#     plt.plot(epochs, recall[i] , 'bo', label='Recall', color = colorlist[i])\n",
    "#     plt.plot(epochs, val_recall[i], 'b', label='val_Recall', color=colorlist[i])\n",
    "#     i+=1\n",
    "\n",
    "# plt.title('Training and validation recall')\n",
    "\n",
    "# plt.figure(figsize=(12,6))\n",
    "# i=0\n",
    "# while i <  len(acc):\n",
    "#     plt.plot(epochs, auc[i] , 'bo', label='auc', color = colorlist[i])\n",
    "#     plt.plot(epochs, val_auc[i], 'b', label='val_auc', color=colorlist[i])\n",
    "#     i+=1\n",
    "\n",
    "# plt.title('Training and validation auc')\n",
    "\n",
    "plt.show()"
   ]
  },
  {
   "cell_type": "code",
   "execution_count": 50,
   "metadata": {},
   "outputs": [
    {
     "name": "stdout",
     "output_type": "stream",
     "text": [
      "Train on 13449 samples, validate on 6724 samples\n",
      "Epoch 1/10\n",
      "13449/13449 [==============================] - 1s 93us/step - loss: 0.6896 - val_loss: 0.6835\n",
      "Epoch 2/10\n",
      "13449/13449 [==============================] - 1s 74us/step - loss: 0.6804 - val_loss: 0.6802\n",
      "Epoch 3/10\n",
      "13449/13449 [==============================] - 1s 78us/step - loss: 0.6769 - val_loss: 0.6784\n",
      "Epoch 4/10\n",
      "13449/13449 [==============================] - 1s 70us/step - loss: 0.6744 - val_loss: 0.6763\n",
      "Epoch 5/10\n",
      "13449/13449 [==============================] - 1s 77us/step - loss: 0.6715 - val_loss: 0.6728\n",
      "Epoch 6/10\n",
      "13449/13449 [==============================] - 1s 72us/step - loss: 0.6696 - val_loss: 0.6711\n",
      "Epoch 7/10\n",
      "13449/13449 [==============================] - 1s 79us/step - loss: 0.6669 - val_loss: 0.6707\n",
      "Epoch 8/10\n",
      "13449/13449 [==============================] - 1s 75us/step - loss: 0.6662 - val_loss: 0.6707\n",
      "Epoch 9/10\n",
      "13449/13449 [==============================] - 1s 86us/step - loss: 0.6660 - val_loss: 0.6692\n",
      "Epoch 10/10\n",
      "13449/13449 [==============================] - 1s 74us/step - loss: 0.6644 - val_loss: 0.6714\n"
     ]
    }
   ],
   "source": [
    "# train network based on all available data to make final prediction\n",
    "X_features_set = X[train_index]\n",
    "Y_features_set = np.array(Y)[train_index]\n",
    "x_features_set = X[test_index]\n",
    "y_features_set = np.array(Y)[test_index]\n",
    "     \n",
    "    \n",
    "input_shape = (119,)\n",
    "network2=None\n",
    "opt=Adam(lr=0.01)\n",
    "    \n",
    "    \n",
    "Input_object = Input(shape =input_shape, name='Input', dtype='float32')\n",
    "    \n",
    "    \n",
    "Dense1 = Dense(60, activation='sigmoid', name='Dense1', input_shape=input_shape)(Input_object)\n",
    "Dropout1= Dropout(0.08)(Dense1)\n",
    "Dense2 = Dense(60, activation='sigmoid', name='Dense2')(Dropout1)\n",
    "Dropout2= Dropout(0.08)(Dense2)\n",
    "Dense3 = Dense(1, activation='sigmoid', name='Output')(Dropout2)\n",
    "    \n",
    "    \n",
    "network2 = Model([Input_object], Dense3)\n",
    "    \n",
    "network2.compile(optimizer=opt,\\\n",
    "    loss='binary_crossentropy')\n",
    "    \n",
    "history2=network2.fit(X_features_set, Y_features_set, epochs=num_epochs, validation_data=(x_features_set, y_features_set))\n",
    "    "
   ]
  },
  {
   "cell_type": "code",
   "execution_count": null,
   "metadata": {},
   "outputs": [],
   "source": []
  },
  {
   "cell_type": "code",
   "execution_count": 15,
   "metadata": {},
   "outputs": [],
   "source": [
    "with open('C:\\\\Users\\\\Vincent\\\\01 Python_Working_Directory\\\\Z9\\\\Data\\\\FMP\\\\Train\\\\FMP_NN.pickle', 'wb') as handle:\n",
    "    pickle.dump(history2, handle)\n",
    "# pickle_out = open(\"C:\\\\Users\\\\Vincent\\\\01 Python_Working_Directory\\\\Z9\\\\Data\\\\FMP\\\\Train\\\\FMP_RF.pickle\",\"rb\")\n",
    "# pickle.dump(clf, pickle_out)\n",
    "# pickle_out.close()\n",
    "# pickle scaler\n",
    "# scaler = StandardScaler()\n",
    "# scaler.fit(X)\n",
    "with open('C:\\\\Users\\\\Vincent\\\\01 Python_Working_Directory\\\\Z9\\\\Data\\\\FMP\\\\Train\\\\FMP_Scaler.pickle',\"wb\") as handle:\n",
    "     pickle.dump(scaler, handle)"
   ]
  },
  {
   "cell_type": "code",
   "execution_count": 14,
   "metadata": {},
   "outputs": [],
   "source": [
    "network.save('C:\\\\Users\\\\Vincent\\\\01 Python_Working_Directory\\\\Z9\\\\Data\\\\FMP\\\\Train\\\\FMP_NN.h5')"
   ]
  },
  {
   "cell_type": "code",
   "execution_count": 51,
   "metadata": {},
   "outputs": [],
   "source": [
    "network2.save('C:\\\\Users\\\\Vincent\\\\01 Python_Working_Directory\\\\Z9\\\\Data\\\\FMP\\\\Train\\\\FMP_NN_Predict.h5')"
   ]
  },
  {
   "cell_type": "markdown",
   "metadata": {},
   "source": [
    "## what follows the prediction from November, i.e. \"what should I have invested in in November\"?"
   ]
  },
  {
   "cell_type": "code",
   "execution_count": 58,
   "metadata": {
    "scrolled": true
   },
   "outputs": [],
   "source": [
    "Current =pd.read_csv(\"C:\\\\Users\\\\Vincent\\\\01 Python_Working_Directory\\\\Z9\\\\Data\\\\FMP\\\\Current\\\\Current_current.csv\")\n",
    "# Macroeconomic data can be dropped here. They cause bias.\n",
    "Current.drop(columns=[\"CPIAUCSL\",\"UNRATE\",\"INDPRO\",\"GDPC1\",\"AAA\",\"EXUSEU\",\"T5YIFRM\"], inplace = True)\n",
    "Current.set_index(\"Unnamed: 0\", inplace = True)\n",
    "X_current=Current.drop(columns=[\"Ticker\",\"Probability 1 RF\"])\n",
    "X_current=scaler.transform(X_current)"
   ]
  },
  {
   "cell_type": "code",
   "execution_count": 59,
   "metadata": {},
   "outputs": [],
   "source": [
    "network2 = load_model('C:\\\\Users\\\\Vincent\\\\01 Python_Working_Directory\\\\Z9\\\\Data\\\\FMP\\\\Train\\\\FMP_NN_Predict.h5')\n",
    "Prediction = network2.predict(X_current)\n",
    "Current.insert(loc = 1,column = \"Probability 1 NN\",value =Prediction)"
   ]
  },
  {
   "cell_type": "code",
   "execution_count": 69,
   "metadata": {},
   "outputs": [],
   "source": [
    "Invest_Suggest =Current[(Current[\"Probability 1 NN\"]>0.9) & (Current[\"Probability 1 RF\"]>0.8)]"
   ]
  },
  {
   "cell_type": "code",
   "execution_count": 55,
   "metadata": {},
   "outputs": [],
   "source": [
    "Invest_Suggest.to_csv(\"C:\\\\Users\\\\Vincent\\\\01 Python_Working_Directory\\\\Z9\\\\Data\\\\FMP\\\\Current\\\\Invest_SuggestMarch.csv\")"
   ]
  },
  {
   "cell_type": "code",
   "execution_count": 70,
   "metadata": {
    "scrolled": false
   },
   "outputs": [
    {
     "data": {
      "text/html": [
       "<div>\n",
       "<style scoped>\n",
       "    .dataframe tbody tr th:only-of-type {\n",
       "        vertical-align: middle;\n",
       "    }\n",
       "\n",
       "    .dataframe tbody tr th {\n",
       "        vertical-align: top;\n",
       "    }\n",
       "\n",
       "    .dataframe thead th {\n",
       "        text-align: right;\n",
       "    }\n",
       "</style>\n",
       "<table border=\"1\" class=\"dataframe\">\n",
       "  <thead>\n",
       "    <tr style=\"text-align: right;\">\n",
       "      <th></th>\n",
       "      <th>Ticker</th>\n",
       "      <th>Probability 1 NN</th>\n",
       "      <th>Probability 1 RF</th>\n",
       "      <th>cashAndCashEquivalents</th>\n",
       "      <th>cashAndShortTermInvestments</th>\n",
       "      <th>netReceivables</th>\n",
       "      <th>otherCurrentAssets</th>\n",
       "      <th>totalCurrentAssets</th>\n",
       "      <th>propertyPlantEquipmentNet</th>\n",
       "      <th>goodwillAndIntangibleAssets</th>\n",
       "      <th>...</th>\n",
       "      <th>priceSalesRatio</th>\n",
       "      <th>enterpriseValueMultiple</th>\n",
       "      <th>priceFairValue</th>\n",
       "      <th>stockPrice</th>\n",
       "      <th>numberOfShares</th>\n",
       "      <th>marketCapitalization</th>\n",
       "      <th>minusCashAndCashEquivalents</th>\n",
       "      <th>addTotalDebt</th>\n",
       "      <th>enterpriseValue</th>\n",
       "      <th>adjclose</th>\n",
       "    </tr>\n",
       "    <tr>\n",
       "      <th>Unnamed: 0</th>\n",
       "      <th></th>\n",
       "      <th></th>\n",
       "      <th></th>\n",
       "      <th></th>\n",
       "      <th></th>\n",
       "      <th></th>\n",
       "      <th></th>\n",
       "      <th></th>\n",
       "      <th></th>\n",
       "      <th></th>\n",
       "      <th></th>\n",
       "      <th></th>\n",
       "      <th></th>\n",
       "      <th></th>\n",
       "      <th></th>\n",
       "      <th></th>\n",
       "      <th></th>\n",
       "      <th></th>\n",
       "      <th></th>\n",
       "      <th></th>\n",
       "      <th></th>\n",
       "    </tr>\n",
       "  </thead>\n",
       "  <tbody>\n",
       "    <tr>\n",
       "      <th>11</th>\n",
       "      <td>ZLAB</td>\n",
       "      <td>0.995027</td>\n",
       "      <td>0.92</td>\n",
       "      <td>2.586040e+08</td>\n",
       "      <td>4.636040e+08</td>\n",
       "      <td>7.024000e+06</td>\n",
       "      <td>7684000</td>\n",
       "      <td>4.848810e+08</td>\n",
       "      <td>3.494600e+07</td>\n",
       "      <td>8.632000e+06</td>\n",
       "      <td>...</td>\n",
       "      <td>0.476646</td>\n",
       "      <td>0.321107</td>\n",
       "      <td>0.011773</td>\n",
       "      <td>82.1300</td>\n",
       "      <td>7.384755e+07</td>\n",
       "      <td>6.065099e+09</td>\n",
       "      <td>2.586040e+08</td>\n",
       "      <td>4.238000e+06</td>\n",
       "      <td>5.810733e+09</td>\n",
       "      <td>83.169998</td>\n",
       "    </tr>\n",
       "    <tr>\n",
       "      <th>157</th>\n",
       "      <td>WFC</td>\n",
       "      <td>0.969392</td>\n",
       "      <td>0.84</td>\n",
       "      <td>0.000000e+00</td>\n",
       "      <td>0.000000e+00</td>\n",
       "      <td>0.000000e+00</td>\n",
       "      <td>0</td>\n",
       "      <td>0.000000e+00</td>\n",
       "      <td>1.357300e+10</td>\n",
       "      <td>8.555000e+09</td>\n",
       "      <td>...</td>\n",
       "      <td>5.868476</td>\n",
       "      <td>-153.870304</td>\n",
       "      <td>0.583491</td>\n",
       "      <td>25.4951</td>\n",
       "      <td>4.105500e+09</td>\n",
       "      <td>1.050000e+11</td>\n",
       "      <td>0.000000e+00</td>\n",
       "      <td>2.310000e+11</td>\n",
       "      <td>3.360000e+11</td>\n",
       "      <td>23.510000</td>\n",
       "    </tr>\n",
       "    <tr>\n",
       "      <th>276</th>\n",
       "      <td>V</td>\n",
       "      <td>0.971339</td>\n",
       "      <td>0.91</td>\n",
       "      <td>1.389800e+10</td>\n",
       "      <td>1.663700e+10</td>\n",
       "      <td>3.564000e+09</td>\n",
       "      <td>4810000000</td>\n",
       "      <td>2.501100e+10</td>\n",
       "      <td>2.746000e+09</td>\n",
       "      <td>4.297900e+10</td>\n",
       "      <td>...</td>\n",
       "      <td>88.284635</td>\n",
       "      <td>144.296879</td>\n",
       "      <td>12.020965</td>\n",
       "      <td>192.8784</td>\n",
       "      <td>2.214000e+09</td>\n",
       "      <td>4.270000e+11</td>\n",
       "      <td>1.389800e+10</td>\n",
       "      <td>1.788000e+10</td>\n",
       "      <td>4.310000e+11</td>\n",
       "      <td>199.970001</td>\n",
       "    </tr>\n",
       "    <tr>\n",
       "      <th>350</th>\n",
       "      <td>UBFO</td>\n",
       "      <td>0.970981</td>\n",
       "      <td>0.87</td>\n",
       "      <td>3.233320e+08</td>\n",
       "      <td>4.151140e+08</td>\n",
       "      <td>6.517360e+08</td>\n",
       "      <td>0</td>\n",
       "      <td>1.066850e+09</td>\n",
       "      <td>2.914000e+06</td>\n",
       "      <td>4.488000e+03</td>\n",
       "      <td>...</td>\n",
       "      <td>13.162418</td>\n",
       "      <td>-89215.419330</td>\n",
       "      <td>0.000888</td>\n",
       "      <td>6.1100</td>\n",
       "      <td>1.716500e+04</td>\n",
       "      <td>1.048781e+05</td>\n",
       "      <td>3.233320e+08</td>\n",
       "      <td>1.008100e+07</td>\n",
       "      <td>-3.131461e+08</td>\n",
       "      <td>6.002464</td>\n",
       "    </tr>\n",
       "    <tr>\n",
       "      <th>447</th>\n",
       "      <td>TOPS</td>\n",
       "      <td>0.943716</td>\n",
       "      <td>0.90</td>\n",
       "      <td>5.611000e+06</td>\n",
       "      <td>5.611000e+06</td>\n",
       "      <td>5.150000e+05</td>\n",
       "      <td>1091000</td>\n",
       "      <td>8.060000e+06</td>\n",
       "      <td>3.632400e+08</td>\n",
       "      <td>0.000000e+00</td>\n",
       "      <td>...</td>\n",
       "      <td>0.031367</td>\n",
       "      <td>-18.280249</td>\n",
       "      <td>0.007292</td>\n",
       "      <td>3.5000</td>\n",
       "      <td>2.921100e+05</td>\n",
       "      <td>1.022385e+06</td>\n",
       "      <td>5.611000e+06</td>\n",
       "      <td>2.618100e+08</td>\n",
       "      <td>2.572214e+08</td>\n",
       "      <td>1.080000</td>\n",
       "    </tr>\n",
       "    <tr>\n",
       "      <th>547</th>\n",
       "      <td>TBKCP</td>\n",
       "      <td>0.983422</td>\n",
       "      <td>0.92</td>\n",
       "      <td>2.882780e+08</td>\n",
       "      <td>5.310800e+08</td>\n",
       "      <td>4.761916e+09</td>\n",
       "      <td>0</td>\n",
       "      <td>5.292996e+09</td>\n",
       "      <td>1.054550e+08</td>\n",
       "      <td>1.920410e+08</td>\n",
       "      <td>...</td>\n",
       "      <td>423.990958</td>\n",
       "      <td>25.457337</td>\n",
       "      <td>0.898283</td>\n",
       "      <td>25.6500</td>\n",
       "      <td>2.429890e+07</td>\n",
       "      <td>6.232667e+08</td>\n",
       "      <td>2.882780e+08</td>\n",
       "      <td>6.587130e+08</td>\n",
       "      <td>9.937017e+08</td>\n",
       "      <td>24.653109</td>\n",
       "    </tr>\n",
       "    <tr>\n",
       "      <th>1397</th>\n",
       "      <td>OCFCP</td>\n",
       "      <td>0.964287</td>\n",
       "      <td>0.94</td>\n",
       "      <td>7.210490e+08</td>\n",
       "      <td>8.742880e+08</td>\n",
       "      <td>8.335480e+09</td>\n",
       "      <td>0</td>\n",
       "      <td>9.209768e+09</td>\n",
       "      <td>0.000000e+00</td>\n",
       "      <td>5.282040e+08</td>\n",
       "      <td>...</td>\n",
       "      <td>464.365834</td>\n",
       "      <td>41.617995</td>\n",
       "      <td>1.023129</td>\n",
       "      <td>25.2264</td>\n",
       "      <td>5.988100e+07</td>\n",
       "      <td>1.510582e+09</td>\n",
       "      <td>7.210490e+08</td>\n",
       "      <td>3.433920e+08</td>\n",
       "      <td>1.132925e+09</td>\n",
       "      <td>26.471827</td>\n",
       "    </tr>\n",
       "  </tbody>\n",
       "</table>\n",
       "<p>7 rows × 122 columns</p>\n",
       "</div>"
      ],
      "text/plain": [
       "           Ticker  Probability 1 NN  Probability 1 RF  cashAndCashEquivalents  \\\n",
       "Unnamed: 0                                                                      \n",
       "11           ZLAB          0.995027              0.92            2.586040e+08   \n",
       "157           WFC          0.969392              0.84            0.000000e+00   \n",
       "276             V          0.971339              0.91            1.389800e+10   \n",
       "350          UBFO          0.970981              0.87            3.233320e+08   \n",
       "447          TOPS          0.943716              0.90            5.611000e+06   \n",
       "547         TBKCP          0.983422              0.92            2.882780e+08   \n",
       "1397        OCFCP          0.964287              0.94            7.210490e+08   \n",
       "\n",
       "            cashAndShortTermInvestments  netReceivables  otherCurrentAssets  \\\n",
       "Unnamed: 0                                                                    \n",
       "11                         4.636040e+08    7.024000e+06             7684000   \n",
       "157                        0.000000e+00    0.000000e+00                   0   \n",
       "276                        1.663700e+10    3.564000e+09          4810000000   \n",
       "350                        4.151140e+08    6.517360e+08                   0   \n",
       "447                        5.611000e+06    5.150000e+05             1091000   \n",
       "547                        5.310800e+08    4.761916e+09                   0   \n",
       "1397                       8.742880e+08    8.335480e+09                   0   \n",
       "\n",
       "            totalCurrentAssets  propertyPlantEquipmentNet  \\\n",
       "Unnamed: 0                                                  \n",
       "11                4.848810e+08               3.494600e+07   \n",
       "157               0.000000e+00               1.357300e+10   \n",
       "276               2.501100e+10               2.746000e+09   \n",
       "350               1.066850e+09               2.914000e+06   \n",
       "447               8.060000e+06               3.632400e+08   \n",
       "547               5.292996e+09               1.054550e+08   \n",
       "1397              9.209768e+09               0.000000e+00   \n",
       "\n",
       "            goodwillAndIntangibleAssets  ...  priceSalesRatio  \\\n",
       "Unnamed: 0                               ...                    \n",
       "11                         8.632000e+06  ...         0.476646   \n",
       "157                        8.555000e+09  ...         5.868476   \n",
       "276                        4.297900e+10  ...        88.284635   \n",
       "350                        4.488000e+03  ...        13.162418   \n",
       "447                        0.000000e+00  ...         0.031367   \n",
       "547                        1.920410e+08  ...       423.990958   \n",
       "1397                       5.282040e+08  ...       464.365834   \n",
       "\n",
       "            enterpriseValueMultiple  priceFairValue  stockPrice  \\\n",
       "Unnamed: 0                                                        \n",
       "11                         0.321107        0.011773     82.1300   \n",
       "157                     -153.870304        0.583491     25.4951   \n",
       "276                      144.296879       12.020965    192.8784   \n",
       "350                   -89215.419330        0.000888      6.1100   \n",
       "447                      -18.280249        0.007292      3.5000   \n",
       "547                       25.457337        0.898283     25.6500   \n",
       "1397                      41.617995        1.023129     25.2264   \n",
       "\n",
       "            numberOfShares  marketCapitalization  minusCashAndCashEquivalents  \\\n",
       "Unnamed: 0                                                                      \n",
       "11            7.384755e+07          6.065099e+09                 2.586040e+08   \n",
       "157           4.105500e+09          1.050000e+11                 0.000000e+00   \n",
       "276           2.214000e+09          4.270000e+11                 1.389800e+10   \n",
       "350           1.716500e+04          1.048781e+05                 3.233320e+08   \n",
       "447           2.921100e+05          1.022385e+06                 5.611000e+06   \n",
       "547           2.429890e+07          6.232667e+08                 2.882780e+08   \n",
       "1397          5.988100e+07          1.510582e+09                 7.210490e+08   \n",
       "\n",
       "            addTotalDebt  enterpriseValue    adjclose  \n",
       "Unnamed: 0                                             \n",
       "11          4.238000e+06     5.810733e+09   83.169998  \n",
       "157         2.310000e+11     3.360000e+11   23.510000  \n",
       "276         1.788000e+10     4.310000e+11  199.970001  \n",
       "350         1.008100e+07    -3.131461e+08    6.002464  \n",
       "447         2.618100e+08     2.572214e+08    1.080000  \n",
       "547         6.587130e+08     9.937017e+08   24.653109  \n",
       "1397        3.433920e+08     1.132925e+09   26.471827  \n",
       "\n",
       "[7 rows x 122 columns]"
      ]
     },
     "execution_count": 70,
     "metadata": {},
     "output_type": "execute_result"
    }
   ],
   "source": [
    "Invest_Suggest"
   ]
  },
  {
   "cell_type": "code",
   "execution_count": null,
   "metadata": {},
   "outputs": [],
   "source": [
    "# 6 months returns (from yahoo):\n",
    "# 40% ZLAB: 91 -> 127\n",
    "# 0% WFC 40 -> 39.9\n",
    "# 6% V 206 -> 219\n",
    "# 21% UBFO 6.5 -> 7.9\n",
    "# 48% TOPS 1.19 -> 1.77\n",
    "# 5% TBKCP 26 -> 27.4\n",
    "# 3% OCFCP 27 -> 27.8"
   ]
  },
  {
   "cell_type": "code",
   "execution_count": 71,
   "metadata": {
    "scrolled": false
   },
   "outputs": [
    {
     "data": {
      "text/plain": [
       "count    1777.000000\n",
       "mean        0.583515\n",
       "std         0.117257\n",
       "min         0.144484\n",
       "25%         0.552127\n",
       "50%         0.590365\n",
       "75%         0.659304\n",
       "max         0.995027\n",
       "Name: Probability 1 NN, dtype: float64"
      ]
     },
     "execution_count": 71,
     "metadata": {},
     "output_type": "execute_result"
    }
   ],
   "source": [
    "Current[\"Probability 1 NN\"].describe()"
   ]
  },
  {
   "cell_type": "code",
   "execution_count": null,
   "metadata": {},
   "outputs": [],
   "source": []
  }
 ],
 "metadata": {
  "kernelspec": {
   "display_name": "Python 3",
   "language": "python",
   "name": "python3"
  },
  "language_info": {
   "codemirror_mode": {
    "name": "ipython",
    "version": 3
   },
   "file_extension": ".py",
   "mimetype": "text/x-python",
   "name": "python",
   "nbconvert_exporter": "python",
   "pygments_lexer": "ipython3",
   "version": "3.7.6"
  }
 },
 "nbformat": 4,
 "nbformat_minor": 4
}
